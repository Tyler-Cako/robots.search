{
 "cells": [
  {
   "cell_type": "code",
   "execution_count": 48,
   "id": "b80ea343",
   "metadata": {},
   "outputs": [
    {
     "data": {
      "text/html": [
       "<div>\n",
       "<style scoped>\n",
       "    .dataframe tbody tr th:only-of-type {\n",
       "        vertical-align: middle;\n",
       "    }\n",
       "\n",
       "    .dataframe tbody tr th {\n",
       "        vertical-align: top;\n",
       "    }\n",
       "\n",
       "    .dataframe thead th {\n",
       "        text-align: right;\n",
       "    }\n",
       "</style>\n",
       "<table border=\"1\" class=\"dataframe\">\n",
       "  <thead>\n",
       "    <tr style=\"text-align: right;\">\n",
       "      <th></th>\n",
       "      <th>URL</th>\n",
       "      <th>HTML</th>\n",
       "      <th>Title</th>\n",
       "      <th>Abstract</th>\n",
       "      <th>Publish_date</th>\n",
       "      <th>Authors</th>\n",
       "      <th>KMeansTags</th>\n",
       "    </tr>\n",
       "  </thead>\n",
       "  <tbody>\n",
       "    <tr>\n",
       "      <th>0</th>\n",
       "      <td>https://deepmind.google/research/publications/...</td>\n",
       "      <td>Automated Discovery of Interpretable Cognitive...</td>\n",
       "      <td>Automated Discovery of Interpretable Cognitive...</td>\n",
       "      <td>A principal goal of computational neuroscience...</td>\n",
       "      <td>6 February 2025</td>\n",
       "      <td>Pablo Castro Rivadeneira, Kim Stachenfeld, Kev...</td>\n",
       "      <td>['data', 'neural', 'networks', 'features', 'fe...</td>\n",
       "    </tr>\n",
       "    <tr>\n",
       "      <th>1</th>\n",
       "      <td>https://deepmind.google/research/publications/...</td>\n",
       "      <td>Scaling Pre-training to One Hundred Billion Da...</td>\n",
       "      <td>Scaling Pre-training to One Hundred Billion Da...</td>\n",
       "      <td>We provide an empirical investigation of the p...</td>\n",
       "      <td>11 February 2025</td>\n",
       "      <td>Xiao Wang, Ibrahim Alabdulmohsin, Daniel Salz,...</td>\n",
       "      <td>['vision', 'scale', 'image', 'dense', 'text']</td>\n",
       "    </tr>\n",
       "    <tr>\n",
       "      <th>2</th>\n",
       "      <td>https://deepmind.google/research/publications/...</td>\n",
       "      <td>Delta Variances - Google DeepMind             ...</td>\n",
       "      <td>Generate videos in Gemini and Whisk with Veo 2...</td>\n",
       "      <td>Decision makers may suffer from uncertainty in...</td>\n",
       "      <td>20 February 2025</td>\n",
       "      <td>Simon Schmitt, John Shawe-Taylor, Hado van Has...</td>\n",
       "      <td>['planning', 'inference', 'energy', 'variation...</td>\n",
       "    </tr>\n",
       "    <tr>\n",
       "      <th>3</th>\n",
       "      <td>https://deepmind.google/research/publications/...</td>\n",
       "      <td>Effective Kernel Fuzzing with Learned White-bo...</td>\n",
       "      <td>Veo 2 15 April 2025                   Effectiv...</td>\n",
       "      <td>Kernel fuzzers rely heavily on program mutatio...</td>\n",
       "      <td>1 April 2025</td>\n",
       "      <td>Sishuai Gong, Wang Rui, Deniz Altinbüken, Pedr...</td>\n",
       "      <td>['hash', 'kernel', 'keys', 'snowplow', 'covera...</td>\n",
       "    </tr>\n",
       "    <tr>\n",
       "      <th>4</th>\n",
       "      <td>https://deepmind.google/research/publications/...</td>\n",
       "      <td>TIPS: Text-Image Pretraining with Spatial awar...</td>\n",
       "      <td>Whisk with Veo 2 15 April 2025                ...</td>\n",
       "      <td>While image-text representation learning has b...</td>\n",
       "      <td>10 March 2025</td>\n",
       "      <td>Kevis-Kokitsi Maninis, Kaifeng Chen, Soham Gho...</td>\n",
       "      <td>['vision', 'scale', 'image', 'dense', 'text']</td>\n",
       "    </tr>\n",
       "  </tbody>\n",
       "</table>\n",
       "</div>"
      ],
      "text/plain": [
       "                                                 URL  \\\n",
       "0  https://deepmind.google/research/publications/...   \n",
       "1  https://deepmind.google/research/publications/...   \n",
       "2  https://deepmind.google/research/publications/...   \n",
       "3  https://deepmind.google/research/publications/...   \n",
       "4  https://deepmind.google/research/publications/...   \n",
       "\n",
       "                                                HTML  \\\n",
       "0  Automated Discovery of Interpretable Cognitive...   \n",
       "1  Scaling Pre-training to One Hundred Billion Da...   \n",
       "2  Delta Variances - Google DeepMind             ...   \n",
       "3  Effective Kernel Fuzzing with Learned White-bo...   \n",
       "4  TIPS: Text-Image Pretraining with Spatial awar...   \n",
       "\n",
       "                                               Title  \\\n",
       "0  Automated Discovery of Interpretable Cognitive...   \n",
       "1  Scaling Pre-training to One Hundred Billion Da...   \n",
       "2  Generate videos in Gemini and Whisk with Veo 2...   \n",
       "3  Veo 2 15 April 2025                   Effectiv...   \n",
       "4  Whisk with Veo 2 15 April 2025                ...   \n",
       "\n",
       "                                            Abstract      Publish_date  \\\n",
       "0  A principal goal of computational neuroscience...   6 February 2025   \n",
       "1  We provide an empirical investigation of the p...  11 February 2025   \n",
       "2  Decision makers may suffer from uncertainty in...  20 February 2025   \n",
       "3  Kernel fuzzers rely heavily on program mutatio...      1 April 2025   \n",
       "4  While image-text representation learning has b...     10 March 2025   \n",
       "\n",
       "                                             Authors  \\\n",
       "0  Pablo Castro Rivadeneira, Kim Stachenfeld, Kev...   \n",
       "1  Xiao Wang, Ibrahim Alabdulmohsin, Daniel Salz,...   \n",
       "2  Simon Schmitt, John Shawe-Taylor, Hado van Has...   \n",
       "3  Sishuai Gong, Wang Rui, Deniz Altinbüken, Pedr...   \n",
       "4  Kevis-Kokitsi Maninis, Kaifeng Chen, Soham Gho...   \n",
       "\n",
       "                                          KMeansTags  \n",
       "0  ['data', 'neural', 'networks', 'features', 'fe...  \n",
       "1      ['vision', 'scale', 'image', 'dense', 'text']  \n",
       "2  ['planning', 'inference', 'energy', 'variation...  \n",
       "3  ['hash', 'kernel', 'keys', 'snowplow', 'covera...  \n",
       "4      ['vision', 'scale', 'image', 'dense', 'text']  "
      ]
     },
     "execution_count": 48,
     "metadata": {},
     "output_type": "execute_result"
    }
   ],
   "source": [
    "import pandas as pd \n",
    "\n",
    "df = pd.read_csv('cleaned_url_data.csv')\n",
    "df.head()"
   ]
  },
  {
   "cell_type": "markdown",
   "id": "ad137b18",
   "metadata": {},
   "source": [
    "have a way to standardize the text:"
   ]
  },
  {
   "cell_type": "code",
   "execution_count": 49,
   "id": "a8b7c5e5",
   "metadata": {},
   "outputs": [],
   "source": [
    "import re\n",
    "def clean_text(text):\n",
    "\n",
    "    text = text.lower()\n",
    "\n",
    "    text = re.sub(r\"[^\\w\\s-]\", \"\", text)\n",
    "    return text"
   ]
  },
  {
   "cell_type": "markdown",
   "id": "31341cc2",
   "metadata": {},
   "source": [
    "Include tags and title in search"
   ]
  },
  {
   "cell_type": "code",
   "execution_count": 50,
   "id": "3bc4bb9e",
   "metadata": {},
   "outputs": [
    {
     "name": "stdout",
     "output_type": "stream",
     "text": [
      "<class 'str'>\n",
      "title automated discovery of interpretable cognitive programs underlying reward-guided behavior abstract a principal goal of computational neuroscience is to discover mathematical models that describe how the brain implements cognitive processes computational neuroscientists typically face a difficult choice between symbolic model-driven approaches that are interpretable but underperform at predicting animal behavior versus data-driven approaches that train overparameterized models to make accurate behavioral predictions with often hard-to-interpret blackbox models in this work we explore the use of an automated llm-based program discovery tool funsearch citeromeraparedes2024mathematical to discover novel symbolic programs that accurately describe animal behavior without sacrificing interpretability we dub this cogfunsearch and verify its efficacy on behavioral data from rodent reward-guided choice behaviors citemiller2021predictive we find that cogfunsearch is able to reliably discover programs that outperform the state-of-the-art cognitive model for predicting rat choices in a 2-armed drifting bandit task this is the case both when cogfunsearch is used to improve on inputted programs as well as when it is used to discover programs from scratch moreover we find that cogfunsearch is sensitive to semantic information in the prompt prompts that provide details of the dataset and suggest an rl modeling framework lead to quantitatively better programs than uninformative prompts both the classic models and the discovered programs are significantly outperformed by a simple yet unconstrained neural network implying that there remains substantial room for improvement in the predictive performance of the discovered functions broadly these results provide early insights into the use of llm-based program discovery tools to find models of cognition  tags data neural networks features feature\n"
     ]
    }
   ],
   "source": [
    "blobs = zip(df[\"Abstract\"],df[\"Title\"], df[\"KMeansTags\"])\n",
    "print(type(df[\"KMeansTags\"][0]))\n",
    "blobs_to_search = [f\"Title: {title} Abstract: {abstract}  Tags: {tags}\" for abstract, title, tags in blobs]\n",
    "\n",
    "blobs_to_search = [clean_text(blob) for blob in blobs_to_search]\n",
    "print(blobs_to_search[0])\n"
   ]
  },
  {
   "cell_type": "markdown",
   "id": "810a18aa",
   "metadata": {},
   "source": [
    "Creating a semantic search following this: https://spotintelligence.com/2023/10/17/semantic-search/\n"
   ]
  },
  {
   "cell_type": "code",
   "execution_count": 51,
   "id": "7674f5ab",
   "metadata": {},
   "outputs": [],
   "source": [
    "from sklearn.feature_extraction.text import TfidfVectorizer\n",
    "\n",
    "\n",
    "tfidf_vectorizer = TfidfVectorizer()\n",
    "tfidf_matrix = tfidf_vectorizer.fit_transform(blobs_to_search)"
   ]
  },
  {
   "cell_type": "markdown",
   "id": "f517951c",
   "metadata": {},
   "source": [
    "Technically i think it works without the tag boost thing, but i want to use tags sooo"
   ]
  },
  {
   "cell_type": "code",
   "execution_count": 58,
   "id": "ae1da4fe",
   "metadata": {},
   "outputs": [],
   "source": [
    "from sklearn.metrics.pairwise import cosine_similarity\n",
    "\n",
    "def search(querry, num_results):\n",
    "    tag_boost = 0.1\n",
    "    querry = clean_text(querry)\n",
    "    query_vector = tfidf_vectorizer.transform([querry])\n",
    "    # Calculate cosine similarity between the user query and all documents\n",
    "    cosine_similarities = cosine_similarity(query_vector, tfidf_matrix)\n",
    "    cosine_similarities = cosine_similarities.flatten()\n",
    "\n",
    "\n",
    "    print(cosine_similarities.shape)\n",
    "    results = []\n",
    "\n",
    "    # Add a bonus if tags match search\n",
    "    for i, tags in enumerate(df[\"KMeansTags\"]):\n",
    "        tags = clean_text(tags).split(' ')\n",
    "        if set(querry.split(' ')) & set(tags):\n",
    "            cosine_similarities[i] += tag_boost  \n",
    "\n",
    "    # Get the index of the most similar document\n",
    "    most_similar_document_index = cosine_similarities.argsort()\n",
    "    # reverse array\n",
    "    most_similar_document_index = most_similar_document_index[::-1]\n",
    "\n",
    "    for idx in range(num_results):\n",
    "        result = {\n",
    "            \"url\": df[\"URL\"][idx],\n",
    "            \"title\": df[\"Title\"][idx],\n",
    "            \"authors\": df[\"Authors\"][idx],\n",
    "            \"tags\": df[\"KMeansTags\"][idx]\n",
    "        }\n",
    "        results.append(result)\n",
    "    \n",
    "\n",
    "    return results\n"
   ]
  },
  {
   "cell_type": "code",
   "execution_count": null,
   "id": "5c90fb06",
   "metadata": {},
   "outputs": [
    {
     "name": "stdout",
     "output_type": "stream",
     "text": [
      "(278,)\n",
      "[{'url': 'https://deepmind.google/research/publications/130468', 'title': 'Automated Discovery of Interpretable Cognitive Programs underlying Reward-guided behavior', 'authors': 'Pablo Castro Rivadeneira, Kim Stachenfeld, Kevin Miller, Nenad Tomašev, Navodita Sharma, Ankit Anand, Alexander Novikov, Kuba Perlin, Nathaniel Daw, Will Dabney, noemielteto , Siddhant Jain, Kyle Levin', 'tags': \"['data', 'neural', 'networks', 'features', 'feature']\"}, {'url': 'https://deepmind.google/research/publications/132991', 'title': 'Scaling Pre-training to One Hundred Billion Data for Vision Language Models', 'authors': 'Xiao Wang, Ibrahim Alabdulmohsin, Daniel Salz, Zhe Li, Keran Rong, Xiaohua Zhai*  *', 'tags': \"['vision', 'scale', 'image', 'dense', 'text']\"}, {'url': 'https://deepmind.google/research/publications/112791', 'title': 'Generate videos in Gemini and Whisk with Veo 2 15 April 2025                   Delta Variances', 'authors': 'Simon Schmitt, John Shawe-Taylor, Hado van Hasselt', 'tags': \"['planning', 'inference', 'energy', 'variational', 'delta']\"}, {'url': 'https://deepmind.google/research/publications/127036', 'title': 'Veo 2 15 April 2025                   Effective Kernel Fuzzing with Learned White-box Test Mutators', 'authors': 'Sishuai Gong, Wang Rui, Deniz Altinbüken, Pedro Fonseca, Petros Maniatis', 'tags': \"['hash', 'kernel', 'keys', 'snowplow', 'coverage']\"}, {'url': 'https://deepmind.google/research/publications/121982', 'title': 'Whisk with Veo 2 15 April 2025                   TIPS: Text-Image Pretraining with Spatial awareness', 'authors': 'Kevis-Kokitsi Maninis, Kaifeng Chen, Soham Ghosh, Arjun Karpur, Koert Chen, Ye Xia, Bingyi Cao, Daniel Salz, Guangxing Han, Jan Dlabal, Dan Gnanapragasam, Mojtaba Seyedhosseini, Howard Zhou, Andre Araujo', 'tags': \"['vision', 'scale', 'image', 'dense', 'text']\"}]\n"
     ]
    }
   ],
   "source": [
    "print(search(\"automated discovery of interpretable cognitive programs underlying reward-guided behavior \", 5))|"
   ]
  },
  {
   "cell_type": "code",
   "execution_count": null,
   "id": "ef1586bc",
   "metadata": {},
   "outputs": [],
   "source": []
  }
 ],
 "metadata": {
  "kernelspec": {
   "display_name": "search_engine",
   "language": "python",
   "name": "python3"
  },
  "language_info": {
   "codemirror_mode": {
    "name": "ipython",
    "version": 3
   },
   "file_extension": ".py",
   "mimetype": "text/x-python",
   "name": "python",
   "nbconvert_exporter": "python",
   "pygments_lexer": "ipython3",
   "version": "3.10.16"
  }
 },
 "nbformat": 4,
 "nbformat_minor": 5
}
