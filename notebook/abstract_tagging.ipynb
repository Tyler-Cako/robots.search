{
 "cells": [
  {
   "cell_type": "code",
   "execution_count": null,
   "id": "5451036b",
   "metadata": {},
   "outputs": [],
   "source": [
    "import pandas as pd\n",
    "from keybert import KeyBERT\n",
    "\n",
    "df = pd.read_csv('cleaned)url_data.csv')\n",
    "\n",
    "print(df.head())      \n",
    "print(df.columns) "
   ]
  },
  {
   "cell_type": "code",
   "execution_count": null,
   "id": "798fc19c",
   "metadata": {},
   "outputs": [],
   "source": []
  },
  {
   "cell_type": "code",
   "execution_count": null,
   "id": "cba118f4",
   "metadata": {},
   "outputs": [],
   "source": [
    "\n",
    "kw_model = KeyBERT('all-MiniLM-L6-v2')\n",
    "\n",
    "keywords = kw_model.extract_keywords(abstracts, top_n=15)\n"
   ]
  }
 ],
 "metadata": {
  "kernelspec": {
   "display_name": "search_engine",
   "language": "python",
   "name": "python3"
  },
  "language_info": {
   "name": "python",
   "version": "3.10.16"
  }
 },
 "nbformat": 4,
 "nbformat_minor": 5
}
