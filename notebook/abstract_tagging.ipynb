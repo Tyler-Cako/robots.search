{
 "cells": [
  {
   "cell_type": "markdown",
   "id": "eaa8b5e3",
   "metadata": {},
   "source": [
    "TLDR:  \n",
    "embed abstracts,  \n",
    "kmeans clustered by abstracts by semantic meaning,  \n",
    "we grab tags from each cluster and assign them to each URL,  \n",
    "we then run k-means again for x amount of runs,  \n",
    "at the end for each url we add up the amount of times it was assigned each tag and take the top 5 tags. \n",
    "\n",
    "next steps for improving tags:  \n",
    "sort out the meaningless tags manually D:  \n",
    "adjust num runs and k cluster numbers  \n",
    "maybe only use the top 75ish most popular tags?  \n",
    "Right now there are 151 unique tags  "
   ]
  },
  {
   "cell_type": "code",
   "execution_count": 199,
   "id": "5451036b",
   "metadata": {},
   "outputs": [
    {
     "data": {
      "text/html": [
       "<div>\n",
       "<style scoped>\n",
       "    .dataframe tbody tr th:only-of-type {\n",
       "        vertical-align: middle;\n",
       "    }\n",
       "\n",
       "    .dataframe tbody tr th {\n",
       "        vertical-align: top;\n",
       "    }\n",
       "\n",
       "    .dataframe thead th {\n",
       "        text-align: right;\n",
       "    }\n",
       "</style>\n",
       "<table border=\"1\" class=\"dataframe\">\n",
       "  <thead>\n",
       "    <tr style=\"text-align: right;\">\n",
       "      <th></th>\n",
       "      <th>URL</th>\n",
       "      <th>HTML</th>\n",
       "      <th>Title</th>\n",
       "      <th>Abstract</th>\n",
       "      <th>Publish_date</th>\n",
       "      <th>Authors</th>\n",
       "      <th>KMeansTags</th>\n",
       "    </tr>\n",
       "  </thead>\n",
       "  <tbody>\n",
       "    <tr>\n",
       "      <th>0</th>\n",
       "      <td>https://deepmind.google/research/publications/...</td>\n",
       "      <td>Automated Discovery of Interpretable Cognitive...</td>\n",
       "      <td>Automated Discovery of Interpretable Cognitive...</td>\n",
       "      <td>A principal goal of computational neuroscience...</td>\n",
       "      <td>6 February 2025</td>\n",
       "      <td>Pablo Castro Rivadeneira, Kim Stachenfeld, Kev...</td>\n",
       "      <td>['programs', 'rl', 'discover', 'reward', 'mode...</td>\n",
       "    </tr>\n",
       "    <tr>\n",
       "      <th>1</th>\n",
       "      <td>https://deepmind.google/research/publications/...</td>\n",
       "      <td>Scaling Pre-training to One Hundred Billion Da...</td>\n",
       "      <td>Scaling Pre-training to One Hundred Billion Da...</td>\n",
       "      <td>We provide an empirical investigation of the p...</td>\n",
       "      <td>11 February 2025</td>\n",
       "      <td>Xiao Wang, Ibrahim Alabdulmohsin, Daniel Salz,...</td>\n",
       "      <td>['scale', 'vision', 'video', 'image', 'data']</td>\n",
       "    </tr>\n",
       "    <tr>\n",
       "      <th>2</th>\n",
       "      <td>https://deepmind.google/research/publications/...</td>\n",
       "      <td>Delta Variances - Google DeepMind             ...</td>\n",
       "      <td>Generate videos in Gemini and Whisk with Veo 2...</td>\n",
       "      <td>Decision makers may suffer from uncertainty in...</td>\n",
       "      <td>20 February 2025</td>\n",
       "      <td>Simon Schmitt, John Shawe-Taylor, Hado van Has...</td>\n",
       "      <td>['neural', 'delta', 'weather', 'states', 'netw...</td>\n",
       "    </tr>\n",
       "    <tr>\n",
       "      <th>3</th>\n",
       "      <td>https://deepmind.google/research/publications/...</td>\n",
       "      <td>Effective Kernel Fuzzing with Learned White-bo...</td>\n",
       "      <td>Veo 2 15 April 2025                   Effectiv...</td>\n",
       "      <td>Kernel fuzzers rely heavily on program mutatio...</td>\n",
       "      <td>1 April 2025</td>\n",
       "      <td>Sishuai Gong, Wang Rui, Deniz Altinbüken, Pedr...</td>\n",
       "      <td>['kernel', 'snowplow', 'coverage', 'programs',...</td>\n",
       "    </tr>\n",
       "    <tr>\n",
       "      <th>4</th>\n",
       "      <td>https://deepmind.google/research/publications/...</td>\n",
       "      <td>TIPS: Text-Image Pretraining with Spatial awar...</td>\n",
       "      <td>Whisk with Veo 2 15 April 2025                ...</td>\n",
       "      <td>While image-text representation learning has b...</td>\n",
       "      <td>10 March 2025</td>\n",
       "      <td>Kevis-Kokitsi Maninis, Kaifeng Chen, Soham Gho...</td>\n",
       "      <td>['image', 'tasks', 'dense', 'video', 'vision']</td>\n",
       "    </tr>\n",
       "  </tbody>\n",
       "</table>\n",
       "</div>"
      ],
      "text/plain": [
       "                                                 URL  \\\n",
       "0  https://deepmind.google/research/publications/...   \n",
       "1  https://deepmind.google/research/publications/...   \n",
       "2  https://deepmind.google/research/publications/...   \n",
       "3  https://deepmind.google/research/publications/...   \n",
       "4  https://deepmind.google/research/publications/...   \n",
       "\n",
       "                                                HTML  \\\n",
       "0  Automated Discovery of Interpretable Cognitive...   \n",
       "1  Scaling Pre-training to One Hundred Billion Da...   \n",
       "2  Delta Variances - Google DeepMind             ...   \n",
       "3  Effective Kernel Fuzzing with Learned White-bo...   \n",
       "4  TIPS: Text-Image Pretraining with Spatial awar...   \n",
       "\n",
       "                                               Title  \\\n",
       "0  Automated Discovery of Interpretable Cognitive...   \n",
       "1  Scaling Pre-training to One Hundred Billion Da...   \n",
       "2  Generate videos in Gemini and Whisk with Veo 2...   \n",
       "3  Veo 2 15 April 2025                   Effectiv...   \n",
       "4  Whisk with Veo 2 15 April 2025                ...   \n",
       "\n",
       "                                            Abstract      Publish_date  \\\n",
       "0  A principal goal of computational neuroscience...   6 February 2025   \n",
       "1  We provide an empirical investigation of the p...  11 February 2025   \n",
       "2  Decision makers may suffer from uncertainty in...  20 February 2025   \n",
       "3  Kernel fuzzers rely heavily on program mutatio...      1 April 2025   \n",
       "4  While image-text representation learning has b...     10 March 2025   \n",
       "\n",
       "                                             Authors  \\\n",
       "0  Pablo Castro Rivadeneira, Kim Stachenfeld, Kev...   \n",
       "1  Xiao Wang, Ibrahim Alabdulmohsin, Daniel Salz,...   \n",
       "2  Simon Schmitt, John Shawe-Taylor, Hado van Has...   \n",
       "3  Sishuai Gong, Wang Rui, Deniz Altinbüken, Pedr...   \n",
       "4  Kevis-Kokitsi Maninis, Kaifeng Chen, Soham Gho...   \n",
       "\n",
       "                                          KMeansTags  \n",
       "0  ['programs', 'rl', 'discover', 'reward', 'mode...  \n",
       "1      ['scale', 'vision', 'video', 'image', 'data']  \n",
       "2  ['neural', 'delta', 'weather', 'states', 'netw...  \n",
       "3  ['kernel', 'snowplow', 'coverage', 'programs',...  \n",
       "4     ['image', 'tasks', 'dense', 'video', 'vision']  "
      ]
     },
     "execution_count": 199,
     "metadata": {},
     "output_type": "execute_result"
    }
   ],
   "source": [
    "import pandas as pd\n",
    "from keybert import KeyBERT\n",
    "import numpy as np\n",
    "from sentence_transformers import SentenceTransformer\n",
    "from sklearn.feature_extraction.text import TfidfVectorizer\n",
    "import matplotlib.pyplot as plt\n",
    "from collections import defaultdict, Counter\n",
    "df = pd.read_csv('cleaned_url_data.csv')\n",
    "\n",
    "df.head()"
   ]
  },
  {
   "cell_type": "markdown",
   "id": "8a9f69c9",
   "metadata": {},
   "source": [
    "This creates semantic embeddings of the abstracts, this will allow us to cluster each paper semantically when using k-means"
   ]
  },
  {
   "cell_type": "code",
   "execution_count": 200,
   "id": "798fc19c",
   "metadata": {},
   "outputs": [
    {
     "name": "stdout",
     "output_type": "stream",
     "text": [
      "(199, 384)\n"
     ]
    }
   ],
   "source": [
    "\n",
    "#  pretrained Sentence Transformer model\n",
    "model = SentenceTransformer(\"all-MiniLM-L6-v2\")\n",
    "\n",
    "abstract_embeddings = model.encode(df['Abstract'])\n",
    "print(abstract_embeddings.shape)"
   ]
  },
  {
   "cell_type": "markdown",
   "id": "05de4cf2",
   "metadata": {},
   "source": [
    "Manual implementation of kemans using hw 3 as a start"
   ]
  },
  {
   "cell_type": "code",
   "execution_count": 201,
   "id": "4b721949",
   "metadata": {},
   "outputs": [],
   "source": [
    "def kmeans(data, k=40, tol=0.005):\n",
    "    n_samples = data.shape[0]\n",
    "    converged = False\n",
    "\n",
    "    # random centroids\n",
    "    indices = np.random.choice(n_samples, size=k, replace=False)\n",
    "    centroids = data[indices]\n",
    "\n",
    "    while not converged:\n",
    "        # take euclidian distance\n",
    "        dists = np.linalg.norm(data[:, np.newaxis] - centroids, axis=2)  \n",
    "        # assign for each centroid\n",
    "        labels = np.argmin(dists, axis=1)\n",
    "\n",
    "        old_centroids = centroids.copy()\n",
    "        #update centroids\n",
    "        for i in range(k):\n",
    "            if np.any(labels == i):\n",
    "                centroids[i] = data[labels == i].mean(axis=0)\n",
    "\n",
    "        # Check convergence\n",
    "        centroid_distances = np.linalg.norm(centroids - old_centroids, axis=1)\n",
    "        if np.all(centroid_distances < tol):\n",
    "            converged = True\n",
    "\n",
    "\n",
    "    # compute  inertia\n",
    "    final_dists = np.linalg.norm(data - centroids[labels], axis=1)\n",
    "    inertia = np.sum(final_dists ** 2)\n",
    "    \n",
    "    return centroids, labels, inertia\n"
   ]
  },
  {
   "cell_type": "markdown",
   "id": "4ebc0d70",
   "metadata": {},
   "source": [
    "Trying to find a optimal k to use, using inertia which is the the sum of the squared distances between each point and its cluster's center. "
   ]
  },
  {
   "cell_type": "code",
   "execution_count": 202,
   "id": "544fb962",
   "metadata": {},
   "outputs": [
    {
     "data": {
      "image/png": "[encoded data removed]",
      "text/plain": [
       "<Figure size 1000x600 with 1 Axes>"
      ]
     },
     "metadata": {},
     "output_type": "display_data"
    }
   ],
   "source": [
    "inertias = []\n",
    "k_values = range(1, 100)  \n",
    "for k in k_values:\n",
    "    centroids, labels, inertia = kmeans(abstract_embeddings, k=k)\n",
    "    inertias.append(inertia)  \n",
    "\n",
    "# Plot the elbow curve\n",
    "plt.figure(figsize=(10, 6))\n",
    "plt.plot(k_values, inertias, marker='o')\n",
    "plt.xlabel('Number of clusters (k)')\n",
    "plt.ylabel('Inertia')\n",
    "plt.title('Looking for Optimal k')\n",
    "plt.grid(True)\n",
    "plt.show()"
   ]
  },
  {
   "cell_type": "markdown",
   "id": "6cb3bbcb",
   "metadata": {},
   "source": [
    "hmm I want to pick a higher than normal k to get more tags, but there isn't a obvious elbow except maybe at like k = 15ish,   \n",
    "But i want to use a higher k than 15 since I want some more specific tags.  \n",
    "I will try with k = 50 first, meaning theres around 5 papers per cluster  "
   ]
  },
  {
   "cell_type": "markdown",
   "id": "0bd93762",
   "metadata": {},
   "source": [
    "Running k means multiple times to get different initial clusters. "
   ]
  },
  {
   "cell_type": "code",
   "execution_count": 203,
   "id": "d2fdf45f",
   "metadata": {},
   "outputs": [],
   "source": [
    "import random\n",
    "num_kmeans_runs = 40\n",
    "# k = 30\n",
    "\n",
    "labels_all_runs = np.zeros((num_kmeans_runs, len(abstract_embeddings)))  \n",
    "\n",
    "for i in range(num_kmeans_runs):\n",
    "    # We now pickj a random k between 30-40\n",
    "    k = random.randint(25, 40)\n",
    "\n",
    "    centroids, labels, inertia = kmeans(abstract_embeddings, k=k)\n",
    "    labels_all_runs[i] = labels  "
   ]
  },
  {
   "cell_type": "markdown",
   "id": "04864d62",
   "metadata": {},
   "source": [
    "Was debating over Tfid or bag of words, bag of words is simple to implement from scratch, but other than that is just a worse algorithm for tagging. Tfid assigns weight to words given all the abstracts allowing it to pick out more signifigant words. It also  uses stopword to prevent only catching the most popular words such as: \"is, and, to, then,\". Learn more about it here: https://scikit-learn.org/stable/modules/generated/sklearn.feature_extraction.text.TfidfVectorizer.html\n"
   ]
  },
  {
   "cell_type": "code",
   "execution_count": 204,
   "id": "eee87df4",
   "metadata": {},
   "outputs": [
    {
     "data": {
      "text/plain": [
       "array(['ability', 'able', 'abstract', 'according', 'accuracy', 'accurate',\n",
       "       'accurately', 'achieve', 'achieves', 'action', 'actions',\n",
       "       'activations', 'adapt', 'adaptation', 'adapting', 'additional',\n",
       "       'additionally', 'address', 'agent', 'agents'], dtype=object)"
      ]
     },
     "execution_count": 204,
     "metadata": {},
     "output_type": "execute_result"
    }
   ],
   "source": [
    "vectorizer = TfidfVectorizer(stop_words='english', \n",
    "                             max_features=750,\n",
    "                             token_pattern=r'(?u)\\b[a-zA-Z][a-zA-Z]+\\b' )#token pattern is regex for each feature to be as least 2 letters and no numbers\n",
    "\n",
    "tfidf_matrix = vectorizer.fit_transform(df['Abstract'])\n",
    "potential_tags = np.array(vectorizer.get_feature_names_out())\n",
    "potential_tags[:20]"
   ]
  },
  {
   "cell_type": "code",
   "execution_count": 205,
   "id": "449ab453",
   "metadata": {},
   "outputs": [],
   "source": [
    "\n",
    "tag_counts_per_url = defaultdict(Counter)\n",
    "\n",
    "# run for each set of clusters created by k-means \n",
    "for labels in labels_all_runs:\n",
    "    cluster_tags = {}\n",
    "\n",
    "    # Extract tags\n",
    "    for cluster_num in np.unique(labels):\n",
    "        cluster_indexes = np.where(labels == cluster_num)[0]\n",
    "        if len(cluster_indexes) > 0:\n",
    "            cluster_tfidf = tfidf_matrix[cluster_indexes].mean(axis=0).A1\n",
    "        else:\n",
    "            cluster_tfidf = np.zeros(tfidf_matrix.shape[1])  \n",
    "        top_indices = np.argsort(cluster_tfidf)\n",
    "        top_indices = top_indices[::-1][:5]\n",
    "        cluster_tags[cluster_num] = potential_tags[top_indices]\n",
    "\n",
    "    # Assign tags to each URL\n",
    "    for i in range(len(labels)):\n",
    "        for tag in cluster_tags[int(labels[i])]:\n",
    "            tag_counts_per_url[i][tag] += 1\n"
   ]
  },
  {
   "cell_type": "markdown",
   "id": "48e0c837",
   "metadata": {},
   "source": [
    "Finally we grab the top 5 tags for each URL"
   ]
  },
  {
   "cell_type": "code",
   "execution_count": 206,
   "id": "ac14eab1",
   "metadata": {},
   "outputs": [],
   "source": [
    "final_tags = {}\n",
    "for i, counter in tag_counts_per_url.items():\n",
    "    final_tags[i] = [tag for tag, _ in counter.most_common(5)]  \n"
   ]
  },
  {
   "cell_type": "code",
   "execution_count": 207,
   "id": "7261a3d7",
   "metadata": {},
   "outputs": [
    {
     "name": "stdout",
     "output_type": "stream",
     "text": [
      "total unique  kmeans tags:  169\n"
     ]
    }
   ],
   "source": [
    "all_final_tags = set(tag for tags in final_tags.values() for tag in tags)\n",
    "print('total unique  kmeans tags: ', len(all_final_tags))\n"
   ]
  },
  {
   "cell_type": "markdown",
   "id": "ed38f823",
   "metadata": {},
   "source": [
    "Now we should probably check the tags against the actual abstracts manually"
   ]
  },
  {
   "cell_type": "code",
   "execution_count": 208,
   "id": "b701c440",
   "metadata": {},
   "outputs": [
    {
     "name": "stdout",
     "output_type": "stream",
     "text": [
      "Title:  Automated Discovery of Interpretable Cognitive Programs underlying Reward-guided behavior\n",
      "URL:  https://deepmind.google/research/publications/130468\n",
      "Tags:  ['programs', 'search', 'reward', 'rl', 'learning']\n",
      "Title:  Scaling Pre-training to One Hundred Billion Data for Vision Language Models\n",
      "URL:  https://deepmind.google/research/publications/132991\n",
      "Tags:  ['scale', 'vision', 'video', 'data', 'models']\n",
      "Title:  Generate videos in Gemini and Whisk with Veo 2 15 April 2025                   Delta Variances\n",
      "URL:  https://deepmind.google/research/publications/112791\n",
      "Tags:  ['neural', 'uncertainty', 'weather', 'delta', 'states']\n",
      "Title:  Veo 2 15 April 2025                   Effective Kernel Fuzzing with Learned White-box Test Mutators\n",
      "URL:  https://deepmind.google/research/publications/127036\n",
      "Tags:  ['kernel', 'program', 'optimization', 'programs', 'search']\n",
      "Title:  Whisk with Veo 2 15 April 2025                   TIPS: Text-Image Pretraining with Spatial awareness\n",
      "URL:  https://deepmind.google/research/publications/121982\n",
      "Tags:  ['tasks', 'image', 'scene', 'video', 'visual']\n",
      "Title:  Gemini and Whisk with Veo 2 15 April 2025                   Foundations of Algorithmic Thermodynamics\n",
      "URL:  https://deepmind.google/research/publications/82794\n",
      "Tags:  ['entropy', 'nash', 'games', 'equilibria', 'algorithmic']\n",
      "Title:  April 2025                   KiVA: Kid-Inspired Visual Analogies for Testing Large Multimodal Models\n",
      "URL:  https://deepmind.google/research/publications/166018\n",
      "Tags:  ['visual', 'reasoning', 'tasks', 'models', 'video']\n",
      "Title:  Are vision-language models shape or texture biased and can we steer them?\n",
      "URL:  https://deepmind.google/research/publications/83299\n",
      "Tags:  ['video', 'vision', 'models', 'image', 'visual']\n",
      "Title:  April 2025                   Deliberation in Latent Space via Differentiable Cache Augmentation\n",
      "URL:  https://deepmind.google/research/publications/141788\n",
      "Tags:  ['cache', 'language', 'llms', 'training', 'reasoning']\n",
      "Title:  April 2025                   Generative Ghosts: Anticipating Benefits and Risks of AI Afterlives\n",
      "URL:  https://deepmind.google/research/publications/65827\n",
      "Tags:  ['ai', 'generative', 'agents', 'evaluation', 'user']\n",
      "Title:  Generate videos in Gemini and Whisk with Veo 2 15 April 2025                   HCI for AGI\n",
      "URL:  https://deepmind.google/research/publications/106025\n",
      "Tags:  ['ai', 'agi', 'evaluation', 'safety', 'generative']\n",
      "Title:  Density Estimation, Kolmogorov Complexity-Based Kernels, and Kernel Learning in Unsupervised Learning\n",
      "URL:  https://deepmind.google/research/publications/148243\n",
      "Tags:  ['kernel', 'dp', 'noise', 'ait', 'neural']\n",
      "Title:  Gensors: Authoring Personalized Visual Sensors with Multimodal Foundation Models and Reasoning\n",
      "URL:  https://deepmind.google/research/publications/124002\n",
      "Tags:  ['users', 'user', 'ai', 'reasoning', 'llms']\n",
      "Title:  Veo 2 15 April 2025                   Poly-Autoregressive Prediction for Interaction Modeling\n",
      "URL:  https://deepmind.google/research/publications/122892\n",
      "Tags:  ['robot', 'tasks', 'agent', 'world', 'forecasting']\n",
      "Title:  MONA: Myopic Optimization with Non-myopic Approval Can Mitigate Multi-step Reward Hacking\n",
      "URL:  https://deepmind.google/research/publications/148850\n",
      "Tags:  ['learning', 'rl', 'ai', 'reward', 'intelligence']\n",
      "Title:  Exposing Limitations of Language Model Agents in Sequential-Task Compositions on the Web\n",
      "URL:  https://deepmind.google/research/publications/46840\n",
      "Tags:  ['tasks', 'language', 'training', 'model', 'optimization']\n",
      "Title:  Gemini and Whisk with Veo 2 15 April 2025                   What type of inference is planning?\n",
      "URL:  https://deepmind.google/research/publications/92499\n",
      "Tags:  ['planning', 'policy', 'learning', 'regret', 'search']\n",
      "Title:  Gemini and Whisk with Veo 2 15 April 2025                   Decoding-based Regression\n",
      "URL:  https://deepmind.google/research/publications/141785\n",
      "Tags:  ['regression', 'models', 'language', 'predictive', 'learning']\n",
      "Title:  Veo 2 15 April 2025                   Gemini Embedding: Generalizable Embeddings from Gemini\n",
      "URL:  https://deepmind.google/research/publications/157741\n",
      "Tags:  ['embedding', 'retrieval', 'token', 'language', 'finetuning']\n",
      "Title:  Veo 2 15 April 2025                   Partition Tree Weighting for Non-Stationary Stochastic Bandits\n",
      "URL:  https://deepmind.google/research/publications/134306\n",
      "Tags:  ['universal', 'learning', 'bounds', 'search', 'policy']\n",
      "Title:  Whisk with Veo 2 15 April 2025                   Achieving Human Level Competitive Robot Table Tennis\n",
      "URL:  https://deepmind.google/research/publications/107741\n",
      "Tags:  ['level', 'robot', 'agent', 'tasks', 'learning']\n",
      "Title:  Proactive Agents for Multi-Turn Text-to-Image Generation Under Uncertainty\n",
      "URL:  https://deepmind.google/research/publications/121578\n",
      "Tags:  ['user', 'ai', 'dialogue', 'behaviour', 'agents']\n",
      "Title:  April 2025                   AI can help humans find common ground in democratic deliberation\n",
      "URL:  https://deepmind.google/research/publications/65220\n",
      "Tags:  ['ai', 'participants', 'group', 'user', 'generative']\n",
      "Title:  Unlearning Doesn’t Do What You Think: Lessons for Generative AI Policy, Research, and Practice\n",
      "URL:  https://deepmind.google/research/publications/101479\n",
      "Tags:  ['ai', 'generative', 'law', 'information', 'evaluation']\n",
      "Title:  Learned feature representations are biased by complexity, learning order, position, and more\n",
      "URL:  https://deepmind.google/research/publications/90369\n",
      "Tags:  ['neural', 'features', 'representations', 'image', 'networks']\n"
     ]
    }
   ],
   "source": [
    "for i in range(0,25):\n",
    "    print('Title: ', df[\"Title\"][i])\n",
    "    print('URL: ', df[\"URL\"][i])\n",
    "    print('Tags: ', final_tags[i])\n",
    "    "
   ]
  },
  {
   "cell_type": "markdown",
   "id": "75a2a7e6",
   "metadata": {},
   "source": [
    "Now did using k-means actually make a difference? Lets check!  \n",
    "Baseline is what TFID would have done by itself on each abstract no k-means"
   ]
  },
  {
   "cell_type": "code",
   "execution_count": 209,
   "id": "ee14baee",
   "metadata": {},
   "outputs": [
    {
     "name": "stdout",
     "output_type": "stream",
     "text": [
      "total unique  baseline tags:  468\n"
     ]
    }
   ],
   "source": [
    "baseline_tags = {} #No k-means\n",
    "for i in range(tfidf_matrix.shape[0]):\n",
    "    row = tfidf_matrix[i].toarray().flatten()\n",
    "    top_indices = np.argsort(row)[::-1][:5] \n",
    "    baseline_tags[i] = list(potential_tags[top_indices])\n",
    "\n",
    "all_baseline_tags = set(tag for tags in baseline_tags.values() for tag in tags)\n",
    "print('total unique  baseline tags: ', len(all_baseline_tags))"
   ]
  },
  {
   "cell_type": "markdown",
   "id": "803064ef",
   "metadata": {},
   "source": [
    "We can see that since our total unque tags for kmeans is much lower, this means that k-means was able to generalize the tags/topics better accross the papers."
   ]
  },
  {
   "cell_type": "markdown",
   "id": "bd9e04ac",
   "metadata": {},
   "source": [
    "There is bit a of similarity but the kmeans definitely signifigantly changes the tags generated from each abstract."
   ]
  },
  {
   "cell_type": "code",
   "execution_count": 210,
   "id": "59180a9e",
   "metadata": {},
   "outputs": [
    {
     "name": "stdout",
     "output_type": "stream",
     "text": [
      "Jaccards similarity  0.2485\n"
     ]
    }
   ],
   "source": [
    "overlaps = []\n",
    "for i in range(len(df)):\n",
    "    set_kmeans = set(final_tags.get(i, [])) \n",
    "    set_baseline = set(baseline_tags.get(i, [])) \n",
    "\n",
    "    intersection = set_kmeans & set_baseline\n",
    "    union = set_kmeans | set_baseline\n",
    "\n",
    "    if union:  \n",
    "        jaccard = len(intersection) / len(union)\n",
    "        overlaps.append(jaccard)\n",
    "\n",
    "print(f\"Jaccards similarity  {np.mean(overlaps):.4f}\")"
   ]
  },
  {
   "cell_type": "markdown",
   "id": "0621694d",
   "metadata": {},
   "source": [
    "Taking a closer look at the different tags:"
   ]
  },
  {
   "cell_type": "code",
   "execution_count": 211,
   "id": "efc7a221",
   "metadata": {},
   "outputs": [
    {
     "name": "stdout",
     "output_type": "stream",
     "text": [
      "Title:  Automated Discovery of Interpretable Cognitive Programs underlying Reward-guided behavior\n",
      "KMeans Tags: ['programs', 'search', 'reward', 'rl', 'learning']\n",
      "Baseline Tags: ['programs', 'discover', 'program', 'cognitive', 'predicting']\n",
      "----------------------------------------\n",
      "Title:  Scaling Pre-training to One Hundred Billion Data for Vision Language Models\n",
      "KMeans Tags: ['scale', 'vision', 'video', 'data', 'models']\n",
      "Baseline Tags: ['scale', 'diversity', 'gains', 'examples', 'benchmarks']\n",
      "----------------------------------------\n",
      "Title:  Generate videos in Gemini and Whisk with Veo 2 15 April 2025                   Delta Variances\n",
      "KMeans Tags: ['neural', 'uncertainty', 'weather', 'delta', 'states']\n",
      "Baseline Tags: ['delta', 'neural', 'uncertainty', 'networks', 'epistemic']\n",
      "----------------------------------------\n"
     ]
    }
   ],
   "source": [
    "for i in range(3): \n",
    "    print('Title: ', df[\"Title\"][i])\n",
    "    print(\"KMeans Tags:\", final_tags[i])\n",
    "    print(\"Baseline Tags:\", baseline_tags[i])\n",
    "    print(\"-\" * 40)\n"
   ]
  },
  {
   "cell_type": "markdown",
   "id": "a4fb8123",
   "metadata": {},
   "source": [
    "To imrpove tagging: I'm currently seeing some tag words that are a bit meaningless. In what we printed above we see that feature and features were keywords from the first abstract, these tags don't really make sense to me right now. To improve this we can add custom stopwords that prevent our TFID model from considering those words. We would have to manually add those stop words though.  \n",
    "\n",
    "Other steps we can do to improve tagging is messing around with k for k means, maybe we can select random ks between a range(this might be annmoying to implemnt )? k =40 was kind of arbitually selected. Also we can look into howv many iterations of k means to do. \n",
    "\n",
    "Another thing we can do to clean the tags is to count up the numbers of each tag and say we only want the top 75 or so and then remove tags from urls that arent in the top 75"
   ]
  },
  {
   "cell_type": "code",
   "execution_count": 212,
   "id": "2d4933bb",
   "metadata": {},
   "outputs": [
    {
     "data": {
      "text/html": [
       "<div>\n",
       "<style scoped>\n",
       "    .dataframe tbody tr th:only-of-type {\n",
       "        vertical-align: middle;\n",
       "    }\n",
       "\n",
       "    .dataframe tbody tr th {\n",
       "        vertical-align: top;\n",
       "    }\n",
       "\n",
       "    .dataframe thead th {\n",
       "        text-align: right;\n",
       "    }\n",
       "</style>\n",
       "<table border=\"1\" class=\"dataframe\">\n",
       "  <thead>\n",
       "    <tr style=\"text-align: right;\">\n",
       "      <th></th>\n",
       "      <th>URL</th>\n",
       "      <th>HTML</th>\n",
       "      <th>Title</th>\n",
       "      <th>Abstract</th>\n",
       "      <th>Publish_date</th>\n",
       "      <th>Authors</th>\n",
       "      <th>KMeansTags</th>\n",
       "    </tr>\n",
       "  </thead>\n",
       "  <tbody>\n",
       "    <tr>\n",
       "      <th>0</th>\n",
       "      <td>https://deepmind.google/research/publications/...</td>\n",
       "      <td>Automated Discovery of Interpretable Cognitive...</td>\n",
       "      <td>Automated Discovery of Interpretable Cognitive...</td>\n",
       "      <td>A principal goal of computational neuroscience...</td>\n",
       "      <td>6 February 2025</td>\n",
       "      <td>Pablo Castro Rivadeneira, Kim Stachenfeld, Kev...</td>\n",
       "      <td>[programs, search, reward, rl, learning]</td>\n",
       "    </tr>\n",
       "    <tr>\n",
       "      <th>1</th>\n",
       "      <td>https://deepmind.google/research/publications/...</td>\n",
       "      <td>Scaling Pre-training to One Hundred Billion Da...</td>\n",
       "      <td>Scaling Pre-training to One Hundred Billion Da...</td>\n",
       "      <td>We provide an empirical investigation of the p...</td>\n",
       "      <td>11 February 2025</td>\n",
       "      <td>Xiao Wang, Ibrahim Alabdulmohsin, Daniel Salz,...</td>\n",
       "      <td>[scale, vision, video, data, models]</td>\n",
       "    </tr>\n",
       "    <tr>\n",
       "      <th>2</th>\n",
       "      <td>https://deepmind.google/research/publications/...</td>\n",
       "      <td>Delta Variances - Google DeepMind             ...</td>\n",
       "      <td>Generate videos in Gemini and Whisk with Veo 2...</td>\n",
       "      <td>Decision makers may suffer from uncertainty in...</td>\n",
       "      <td>20 February 2025</td>\n",
       "      <td>Simon Schmitt, John Shawe-Taylor, Hado van Has...</td>\n",
       "      <td>[neural, uncertainty, weather, delta, states]</td>\n",
       "    </tr>\n",
       "    <tr>\n",
       "      <th>3</th>\n",
       "      <td>https://deepmind.google/research/publications/...</td>\n",
       "      <td>Effective Kernel Fuzzing with Learned White-bo...</td>\n",
       "      <td>Veo 2 15 April 2025                   Effectiv...</td>\n",
       "      <td>Kernel fuzzers rely heavily on program mutatio...</td>\n",
       "      <td>1 April 2025</td>\n",
       "      <td>Sishuai Gong, Wang Rui, Deniz Altinbüken, Pedr...</td>\n",
       "      <td>[kernel, program, optimization, programs, search]</td>\n",
       "    </tr>\n",
       "    <tr>\n",
       "      <th>4</th>\n",
       "      <td>https://deepmind.google/research/publications/...</td>\n",
       "      <td>TIPS: Text-Image Pretraining with Spatial awar...</td>\n",
       "      <td>Whisk with Veo 2 15 April 2025                ...</td>\n",
       "      <td>While image-text representation learning has b...</td>\n",
       "      <td>10 March 2025</td>\n",
       "      <td>Kevis-Kokitsi Maninis, Kaifeng Chen, Soham Gho...</td>\n",
       "      <td>[tasks, image, scene, video, visual]</td>\n",
       "    </tr>\n",
       "  </tbody>\n",
       "</table>\n",
       "</div>"
      ],
      "text/plain": [
       "                                                 URL  \\\n",
       "0  https://deepmind.google/research/publications/...   \n",
       "1  https://deepmind.google/research/publications/...   \n",
       "2  https://deepmind.google/research/publications/...   \n",
       "3  https://deepmind.google/research/publications/...   \n",
       "4  https://deepmind.google/research/publications/...   \n",
       "\n",
       "                                                HTML  \\\n",
       "0  Automated Discovery of Interpretable Cognitive...   \n",
       "1  Scaling Pre-training to One Hundred Billion Da...   \n",
       "2  Delta Variances - Google DeepMind             ...   \n",
       "3  Effective Kernel Fuzzing with Learned White-bo...   \n",
       "4  TIPS: Text-Image Pretraining with Spatial awar...   \n",
       "\n",
       "                                               Title  \\\n",
       "0  Automated Discovery of Interpretable Cognitive...   \n",
       "1  Scaling Pre-training to One Hundred Billion Da...   \n",
       "2  Generate videos in Gemini and Whisk with Veo 2...   \n",
       "3  Veo 2 15 April 2025                   Effectiv...   \n",
       "4  Whisk with Veo 2 15 April 2025                ...   \n",
       "\n",
       "                                            Abstract      Publish_date  \\\n",
       "0  A principal goal of computational neuroscience...   6 February 2025   \n",
       "1  We provide an empirical investigation of the p...  11 February 2025   \n",
       "2  Decision makers may suffer from uncertainty in...  20 February 2025   \n",
       "3  Kernel fuzzers rely heavily on program mutatio...      1 April 2025   \n",
       "4  While image-text representation learning has b...     10 March 2025   \n",
       "\n",
       "                                             Authors  \\\n",
       "0  Pablo Castro Rivadeneira, Kim Stachenfeld, Kev...   \n",
       "1  Xiao Wang, Ibrahim Alabdulmohsin, Daniel Salz,...   \n",
       "2  Simon Schmitt, John Shawe-Taylor, Hado van Has...   \n",
       "3  Sishuai Gong, Wang Rui, Deniz Altinbüken, Pedr...   \n",
       "4  Kevis-Kokitsi Maninis, Kaifeng Chen, Soham Gho...   \n",
       "\n",
       "                                          KMeansTags  \n",
       "0           [programs, search, reward, rl, learning]  \n",
       "1               [scale, vision, video, data, models]  \n",
       "2      [neural, uncertainty, weather, delta, states]  \n",
       "3  [kernel, program, optimization, programs, search]  \n",
       "4               [tasks, image, scene, video, visual]  "
      ]
     },
     "execution_count": 212,
     "metadata": {},
     "output_type": "execute_result"
    }
   ],
   "source": [
    "\n",
    "df['KMeansTags'] = df.index.map(lambda i: final_tags.get(i, []))\n",
    "\n",
    "df.head()"
   ]
  },
  {
   "cell_type": "code",
   "execution_count": 213,
   "id": "0f3f4374",
   "metadata": {},
   "outputs": [],
   "source": [
    "df.to_csv('cleaned_url_data.csv', index=False)\n"
   ]
  },
  {
   "cell_type": "markdown",
   "id": "88324662",
   "metadata": {},
   "source": [
    "Below is another model for extracting keywords from text. I just wantedf to sompare it to our k means method"
   ]
  },
  {
   "cell_type": "code",
   "execution_count": null,
   "id": "cba118f4",
   "metadata": {},
   "outputs": [],
   "source": [
    "\n",
    "kw_model = KeyBERT('all-MiniLM-L6-v2')\n",
    "\n",
    "keywords = kw_model.extract_keywords(df[\"Abstract\"], top_n=5)\n"
   ]
  },
  {
   "cell_type": "code",
   "execution_count": 145,
   "id": "e690f4f8",
   "metadata": {},
   "outputs": [
    {
     "name": "stdout",
     "output_type": "stream",
     "text": [
      "Tags:  ['programs', 'reward', 'rl', 'tasks', 'models']\n",
      "ketbert:  [('behavioral', 0.408), ('reward', 0.3432), ('neural', 0.3415), ('program', 0.3414), ('predictive', 0.3361)]\n",
      "Tags:  ['scale', 'vision', 'image', 'tasks', 'embedding']\n",
      "ketbert:  [('multilinguality', 0.4022), ('multimodal', 0.3813), ('captions', 0.3723), ('diversity', 0.3378), ('cultural', 0.3288)]\n",
      "Tags:  ['neural', 'uncertainty', 'delta', 'weather', 'networks']\n",
      "ketbert:  [('uncertainty', 0.4599), ('variances', 0.3109), ('networks', 0.2981), ('empirically', 0.2965), ('variance', 0.2913)]\n",
      "Tags:  ['kernel', 'snowplow', 'coverage', 'program', 'ml']\n",
      "ketbert:  [('fuzzing', 0.4505), ('mutation', 0.4053), ('mutations', 0.3719), ('coverage', 0.35), ('kernels', 0.3409)]\n",
      "Tags:  ['image', 'tasks', 'vision', 'video', 'scale']\n",
      "ketbert:  [('captions', 0.3986), ('deepmind', 0.377), ('text', 0.3234), ('supervised', 0.3084), ('learning', 0.2996)]\n",
      "Tags:  ['entropy', 'algorithmic', 'time', 'nash', 'game']\n",
      "ketbert:  [('entropy', 0.5618), ('thermodynamics', 0.4321), ('ensembles', 0.3401), ('markovian', 0.3389), ('probabilistic', 0.3387)]\n",
      "Tags:  ['reasoning', 'visual', 'language', 'models', 'user']\n",
      "ketbert:  [('multimodal', 0.4629), ('analogical', 0.4571), ('visual', 0.4524), ('analogies', 0.4405), ('analogy', 0.4362)]\n",
      "Tags:  ['vision', 'scale', 'image', 'visual', 'models']\n",
      "ketbert:  [('perception', 0.4097), ('visual', 0.4061), ('biases', 0.3958), ('bias', 0.3938), ('vision', 0.3786)]\n",
      "Tags:  ['cache', 'coprocessor', 'language', 'decoder', 'reasoning']\n",
      "ketbert:  [('decoder', 0.3822), ('cache', 0.3708), ('decoding', 0.3609), ('coprocessor', 0.3289), ('embeddings', 0.2875)]\n",
      "Tags:  ['ai', 'generative', 'agents', 'user', 'agi']\n",
      "ketbert:  [('ai', 0.4506), ('creator', 0.4429), ('ghosts', 0.4389), ('generative', 0.4027), ('agent', 0.3818)]\n",
      "Tags:  ['ai', 'hci', 'agi', 'evaluation', 'safety']\n",
      "ketbert:  [('ai', 0.5168), ('hci', 0.4984), ('agi', 0.4835), ('interaction', 0.3535), ('interface', 0.3517)]\n",
      "Tags:  ['kernel', 'ait', 'dp', 'graph', 'noise']\n",
      "ketbert:  [('compression', 0.3832), ('kernels', 0.3735), ('kernel', 0.3351), ('sparse', 0.3035), ('complexity', 0.3)]\n",
      "Tags:  ['users', 'ai', 'user', 'reasoning', 'models']\n",
      "ketbert:  [('multimodal', 0.4096), ('ai', 0.3961), ('prompting', 0.3401), ('eliciting', 0.3189), ('intelligent', 0.3124)]\n",
      "Tags:  ['agent', 'robot', 'par', 'tasks', 'world']\n",
      "ketbert:  [('predicting', 0.4424), ('forecasting', 0.4354), ('prediction', 0.416), ('forecasts', 0.4126), ('agent', 0.407)]\n",
      "Tags:  ['rl', 'learning', 'reward', 'ai', 'programs']\n",
      "ketbert:  [('ai', 0.4249), ('reinforcement', 0.4121), ('agents', 0.3275), ('hacking', 0.3124), ('oversight', 0.2893)]\n"
     ]
    }
   ],
   "source": [
    "for i in range(15):\n",
    "    print('Tags: ', final_tags[i])\n",
    "    print('ketbert: ', keywords[i])\n",
    "    "
   ]
  },
  {
   "cell_type": "code",
   "execution_count": null,
   "id": "57fa0225",
   "metadata": {},
   "outputs": [],
   "source": []
  }
 ],
 "metadata": {
  "kernelspec": {
   "display_name": "search_engine",
   "language": "python",
   "name": "python3"
  },
  "language_info": {
   "codemirror_mode": {
    "name": "ipython",
    "version": 3
   },
   "file_extension": ".py",
   "mimetype": "text/x-python",
   "name": "python",
   "nbconvert_exporter": "python",
   "pygments_lexer": "ipython3",
   "version": "3.10.16"
  }
 },
 "nbformat": 4,
 "nbformat_minor": 5
}
