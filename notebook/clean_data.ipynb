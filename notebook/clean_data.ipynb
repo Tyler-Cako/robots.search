{
 "cells": [
  {
   "cell_type": "markdown",
   "id": "c8a8e11a",
   "metadata": {},
   "source": [
    "Read in data:"
   ]
  },
  {
   "cell_type": "code",
   "execution_count": null,
   "id": "2dfb2cf1",
   "metadata": {},
   "outputs": [],
   "source": [
    "import pandas as pd\n",
    "import string\n",
    "import re\n",
    "\n"
   ]
  },
  {
   "cell_type": "code",
   "execution_count": 4,
   "id": "31521d92",
   "metadata": {},
   "outputs": [
    {
     "data": {
      "text/html": [
       "<div>\n",
       "<style scoped>\n",
       "    .dataframe tbody tr th:only-of-type {\n",
       "        vertical-align: middle;\n",
       "    }\n",
       "\n",
       "    .dataframe tbody tr th {\n",
       "        vertical-align: top;\n",
       "    }\n",
       "\n",
       "    .dataframe thead th {\n",
       "        text-align: right;\n",
       "    }\n",
       "</style>\n",
       "<table border=\"1\" class=\"dataframe\">\n",
       "  <thead>\n",
       "    <tr style=\"text-align: right;\">\n",
       "      <th></th>\n",
       "      <th>URL</th>\n",
       "      <th>HTML</th>\n",
       "    </tr>\n",
       "  </thead>\n",
       "  <tbody>\n",
       "    <tr>\n",
       "      <th>0</th>\n",
       "      <td>https://deepmind.google/research/publications/</td>\n",
       "      <td>Publications - Google DeepMind                ...</td>\n",
       "    </tr>\n",
       "    <tr>\n",
       "      <th>1</th>\n",
       "      <td>https://deepmind.google/research/publications/...</td>\n",
       "      <td>Publications - Google DeepMind                ...</td>\n",
       "    </tr>\n",
       "    <tr>\n",
       "      <th>2</th>\n",
       "      <td>https://deepmind.google/research/publications/...</td>\n",
       "      <td>Automated Discovery of Interpretable Cognitive...</td>\n",
       "    </tr>\n",
       "    <tr>\n",
       "      <th>3</th>\n",
       "      <td>https://deepmind.google/research/publications/...</td>\n",
       "      <td>Scaling Pre-training to One Hundred Billion Da...</td>\n",
       "    </tr>\n",
       "    <tr>\n",
       "      <th>4</th>\n",
       "      <td>https://deepmind.google/research/publications/...</td>\n",
       "      <td>Publications - Google DeepMind                ...</td>\n",
       "    </tr>\n",
       "  </tbody>\n",
       "</table>\n",
       "</div>"
      ],
      "text/plain": [
       "                                                 URL  \\\n",
       "0     https://deepmind.google/research/publications/   \n",
       "1  https://deepmind.google/research/publications/...   \n",
       "2  https://deepmind.google/research/publications/...   \n",
       "3  https://deepmind.google/research/publications/...   \n",
       "4  https://deepmind.google/research/publications/...   \n",
       "\n",
       "                                                HTML  \n",
       "0  Publications - Google DeepMind                ...  \n",
       "1  Publications - Google DeepMind                ...  \n",
       "2  Automated Discovery of Interpretable Cognitive...  \n",
       "3  Scaling Pre-training to One Hundred Billion Da...  \n",
       "4  Publications - Google DeepMind                ...  "
      ]
     },
     "execution_count": 4,
     "metadata": {},
     "output_type": "execute_result"
    }
   ],
   "source": [
    "df = pd.read_csv('../webscraper/raw_data.csv')\n",
    "\n",
    "df.head()  \n"
   ]
  },
  {
   "cell_type": "markdown",
   "id": "6e221748",
   "metadata": {},
   "source": [
    "Clean the abstacts:"
   ]
  },
  {
   "cell_type": "code",
   "execution_count": 3,
   "id": "420f1f7a",
   "metadata": {},
   "outputs": [],
   "source": [
    "\n",
    "abstracts = df['HTML'].tolist()\n",
    "abstracts = [' '.join(abstract.lower().translate(str.maketrans('', '', string.punctuation)).split()) for abstract in abstracts]"
   ]
  },
  {
   "cell_type": "code",
   "execution_count": 4,
   "id": "c02df4e8",
   "metadata": {},
   "outputs": [],
   "source": [
    "\n",
    "# regex to extract from HTML\n",
    "def extract_abstract(text):\n",
    "    match = re.search(r'(?i)abstract\\s*(.*?)(?=\\s*authors)', text, re.DOTALL)\n",
    "    if match:\n",
    "        return match.group(1).strip()\n",
    "    return None\n",
    "def extract_publish_date(text):\n",
    "    match = re.search(r'(?i)published\\s+([0-9]{1,2}\\s+\\w+\\s+[0-9]{4})', text)\n",
    "    if match:\n",
    "        return match.group(1).strip()\n",
    "    return None\n",
    "def extract_authors(text):\n",
    "    match = re.search(r'Authors\\s+(.*?)(?=\\s*(External|Venue|Published|Footer|$))', text, re.IGNORECASE | re.DOTALL)\n",
    "    if match:\n",
    "        return match.group(1).strip()\n",
    "    return None\n",
    "def extract_title(text):\n",
    "    match = re.search(r'([A-Z][^\\n]{10,100}?)\\s+Published', text)\n",
    "    if match:\n",
    "        return match.group(1).strip()\n",
    "    return None\n"
   ]
  },
  {
   "cell_type": "code",
   "execution_count": 5,
   "id": "f3d8a983",
   "metadata": {},
   "outputs": [],
   "source": [
    "df['Title'] = df['HTML'].apply(extract_title)\n",
    "df['Abstract'] = df['HTML'].apply(extract_abstract)\n",
    "df['Publish_date'] = df['HTML'].apply(extract_publish_date)\n",
    "df['Authors'] = df['HTML'].apply(extract_authors)\n"
   ]
  },
  {
   "cell_type": "code",
   "execution_count": 6,
   "id": "8dbd68b1",
   "metadata": {},
   "outputs": [
    {
     "name": "stdout",
     "output_type": "stream",
     "text": [
      "https://deepmind.google/research/publications/132991\n",
      "Scaling Pre-training to One Hundred Billion Data for Vision Language Models\n",
      "Xiao Wang, Ibrahim Alabdulmohsin, Daniel Salz, Zhe Li, Keran Rong, Xiaohua Zhai*  *\n",
      "We provide an empirical investigation of the potential of pre-training vision-language models on an unprecedented scale: 100 billion examples. We find that model performance tends to saturate at this scale on many common Western-centric classification and retrieval benchmarks, such as COCO Captions. Nevertheless, tasks of cultural diversity achieve more substantial gains from the 100-billion scale web data, thanks to its coverage of long-tail concepts. Furthermore, we analyze the model's multilinguality and show gains in low-resource languages as well. In addition, we observe that reducing the size of the pretraining dataset via quality filters like using CLIP, typically used to enhance performance, may inadvertently reduce the cultural diversity represented even in large-scale datasets. Our results highlight that while traditional benchmarks may not benefit significantly from scaling noisy, raw web data to 100 billion examples, this data scale is vital for building truly inclusive multimodal systems.\n",
      "11 February 2025\n"
     ]
    }
   ],
   "source": [
    "# checking extractions\n",
    "print(df['URL'][3])\n",
    "print(df['Title'][3])\n",
    "print(df['Authors'][3])\n",
    "print(df['Abstract'][3])\n",
    "print(df['Publish_date'][3])"
   ]
  },
  {
   "cell_type": "code",
   "execution_count": 7,
   "id": "4e527b58",
   "metadata": {},
   "outputs": [
    {
     "data": {
      "text/html": [
       "<div>\n",
       "<style scoped>\n",
       "    .dataframe tbody tr th:only-of-type {\n",
       "        vertical-align: middle;\n",
       "    }\n",
       "\n",
       "    .dataframe tbody tr th {\n",
       "        vertical-align: top;\n",
       "    }\n",
       "\n",
       "    .dataframe thead th {\n",
       "        text-align: right;\n",
       "    }\n",
       "</style>\n",
       "<table border=\"1\" class=\"dataframe\">\n",
       "  <thead>\n",
       "    <tr style=\"text-align: right;\">\n",
       "      <th></th>\n",
       "      <th>URL</th>\n",
       "      <th>HTML</th>\n",
       "      <th>Title</th>\n",
       "      <th>Abstract</th>\n",
       "      <th>Publish_date</th>\n",
       "      <th>Authors</th>\n",
       "    </tr>\n",
       "  </thead>\n",
       "  <tbody>\n",
       "    <tr>\n",
       "      <th>0</th>\n",
       "      <td>https://deepmind.google/research/publications/</td>\n",
       "      <td>Publications - Google DeepMind                ...</td>\n",
       "      <td>None</td>\n",
       "      <td>None</td>\n",
       "      <td>None</td>\n",
       "      <td>Marcus Hutter</td>\n",
       "    </tr>\n",
       "    <tr>\n",
       "      <th>1</th>\n",
       "      <td>https://deepmind.google/research/publications/...</td>\n",
       "      <td>Publications - Google DeepMind                ...</td>\n",
       "      <td>None</td>\n",
       "      <td>None</td>\n",
       "      <td>None</td>\n",
       "      <td>A. Feder Cooper, Christopher A. Choquette-Choo...</td>\n",
       "    </tr>\n",
       "    <tr>\n",
       "      <th>2</th>\n",
       "      <td>https://deepmind.google/research/publications/...</td>\n",
       "      <td>Automated Discovery of Interpretable Cognitive...</td>\n",
       "      <td>Automated Discovery of Interpretable Cognitive...</td>\n",
       "      <td>A principal goal of computational neuroscience...</td>\n",
       "      <td>6 February 2025</td>\n",
       "      <td>Pablo Castro Rivadeneira, Kim Stachenfeld, Kev...</td>\n",
       "    </tr>\n",
       "    <tr>\n",
       "      <th>3</th>\n",
       "      <td>https://deepmind.google/research/publications/...</td>\n",
       "      <td>Scaling Pre-training to One Hundred Billion Da...</td>\n",
       "      <td>Scaling Pre-training to One Hundred Billion Da...</td>\n",
       "      <td>We provide an empirical investigation of the p...</td>\n",
       "      <td>11 February 2025</td>\n",
       "      <td>Xiao Wang, Ibrahim Alabdulmohsin, Daniel Salz,...</td>\n",
       "    </tr>\n",
       "    <tr>\n",
       "      <th>4</th>\n",
       "      <td>https://deepmind.google/research/publications/...</td>\n",
       "      <td>Publications - Google DeepMind                ...</td>\n",
       "      <td>None</td>\n",
       "      <td>None</td>\n",
       "      <td>None</td>\n",
       "      <td>Marcus Hutter</td>\n",
       "    </tr>\n",
       "  </tbody>\n",
       "</table>\n",
       "</div>"
      ],
      "text/plain": [
       "                                                 URL  \\\n",
       "0     https://deepmind.google/research/publications/   \n",
       "1  https://deepmind.google/research/publications/...   \n",
       "2  https://deepmind.google/research/publications/...   \n",
       "3  https://deepmind.google/research/publications/...   \n",
       "4  https://deepmind.google/research/publications/...   \n",
       "\n",
       "                                                HTML  \\\n",
       "0  Publications - Google DeepMind                ...   \n",
       "1  Publications - Google DeepMind                ...   \n",
       "2  Automated Discovery of Interpretable Cognitive...   \n",
       "3  Scaling Pre-training to One Hundred Billion Da...   \n",
       "4  Publications - Google DeepMind                ...   \n",
       "\n",
       "                                               Title  \\\n",
       "0                                               None   \n",
       "1                                               None   \n",
       "2  Automated Discovery of Interpretable Cognitive...   \n",
       "3  Scaling Pre-training to One Hundred Billion Da...   \n",
       "4                                               None   \n",
       "\n",
       "                                            Abstract      Publish_date  \\\n",
       "0                                               None              None   \n",
       "1                                               None              None   \n",
       "2  A principal goal of computational neuroscience...   6 February 2025   \n",
       "3  We provide an empirical investigation of the p...  11 February 2025   \n",
       "4                                               None              None   \n",
       "\n",
       "                                             Authors  \n",
       "0                                      Marcus Hutter  \n",
       "1  A. Feder Cooper, Christopher A. Choquette-Choo...  \n",
       "2  Pablo Castro Rivadeneira, Kim Stachenfeld, Kev...  \n",
       "3  Xiao Wang, Ibrahim Alabdulmohsin, Daniel Salz,...  \n",
       "4                                      Marcus Hutter  "
      ]
     },
     "execution_count": 7,
     "metadata": {},
     "output_type": "execute_result"
    }
   ],
   "source": [
    "df.head(5)"
   ]
  },
  {
   "cell_type": "code",
   "execution_count": 9,
   "id": "d9f2de24",
   "metadata": {},
   "outputs": [
    {
     "data": {
      "text/plain": [
       "(278, 6)"
      ]
     },
     "execution_count": 9,
     "metadata": {},
     "output_type": "execute_result"
    }
   ],
   "source": [
    "df = df.dropna(subset=['Abstract'])\n",
    "\n",
    "df.shape"
   ]
  },
  {
   "cell_type": "markdown",
   "id": "17aa3d0c",
   "metadata": {},
   "source": [
    "Remove dups from webscraping error:"
   ]
  },
  {
   "cell_type": "code",
   "execution_count": 22,
   "id": "adc4f35a",
   "metadata": {},
   "outputs": [
    {
     "name": "stdout",
     "output_type": "stream",
     "text": [
      "(278, 7)\n"
     ]
    },
    {
     "data": {
      "text/html": [
       "<div>\n",
       "<style scoped>\n",
       "    .dataframe tbody tr th:only-of-type {\n",
       "        vertical-align: middle;\n",
       "    }\n",
       "\n",
       "    .dataframe tbody tr th {\n",
       "        vertical-align: top;\n",
       "    }\n",
       "\n",
       "    .dataframe thead th {\n",
       "        text-align: right;\n",
       "    }\n",
       "</style>\n",
       "<table border=\"1\" class=\"dataframe\">\n",
       "  <thead>\n",
       "    <tr style=\"text-align: right;\">\n",
       "      <th></th>\n",
       "      <th>URL</th>\n",
       "      <th>HTML</th>\n",
       "      <th>Title</th>\n",
       "      <th>Abstract</th>\n",
       "      <th>Publish_date</th>\n",
       "      <th>Authors</th>\n",
       "      <th>KMeansTags</th>\n",
       "    </tr>\n",
       "  </thead>\n",
       "  <tbody>\n",
       "    <tr>\n",
       "      <th>0</th>\n",
       "      <td>https://deepmind.google/research/publications/...</td>\n",
       "      <td>Automated Discovery of Interpretable Cognitive...</td>\n",
       "      <td>Automated Discovery of Interpretable Cognitive...</td>\n",
       "      <td>A principal goal of computational neuroscience...</td>\n",
       "      <td>6 February 2025</td>\n",
       "      <td>Pablo Castro Rivadeneira, Kim Stachenfeld, Kev...</td>\n",
       "      <td>['programs', 'rl', 'discover', 'reward', 'mode...</td>\n",
       "    </tr>\n",
       "    <tr>\n",
       "      <th>1</th>\n",
       "      <td>https://deepmind.google/research/publications/...</td>\n",
       "      <td>Scaling Pre-training to One Hundred Billion Da...</td>\n",
       "      <td>Scaling Pre-training to One Hundred Billion Da...</td>\n",
       "      <td>We provide an empirical investigation of the p...</td>\n",
       "      <td>11 February 2025</td>\n",
       "      <td>Xiao Wang, Ibrahim Alabdulmohsin, Daniel Salz,...</td>\n",
       "      <td>['scale', 'vision', 'video', 'image', 'data']</td>\n",
       "    </tr>\n",
       "    <tr>\n",
       "      <th>2</th>\n",
       "      <td>https://deepmind.google/research/publications/...</td>\n",
       "      <td>Delta Variances - Google DeepMind             ...</td>\n",
       "      <td>Generate videos in Gemini and Whisk with Veo 2...</td>\n",
       "      <td>Decision makers may suffer from uncertainty in...</td>\n",
       "      <td>20 February 2025</td>\n",
       "      <td>Simon Schmitt, John Shawe-Taylor, Hado van Has...</td>\n",
       "      <td>['neural', 'delta', 'weather', 'states', 'netw...</td>\n",
       "    </tr>\n",
       "    <tr>\n",
       "      <th>3</th>\n",
       "      <td>https://deepmind.google/research/publications/...</td>\n",
       "      <td>Effective Kernel Fuzzing with Learned White-bo...</td>\n",
       "      <td>Veo 2 15 April 2025                   Effectiv...</td>\n",
       "      <td>Kernel fuzzers rely heavily on program mutatio...</td>\n",
       "      <td>1 April 2025</td>\n",
       "      <td>Sishuai Gong, Wang Rui, Deniz Altinbüken, Pedr...</td>\n",
       "      <td>['kernel', 'snowplow', 'coverage', 'programs',...</td>\n",
       "    </tr>\n",
       "    <tr>\n",
       "      <th>4</th>\n",
       "      <td>https://deepmind.google/research/publications/...</td>\n",
       "      <td>TIPS: Text-Image Pretraining with Spatial awar...</td>\n",
       "      <td>Whisk with Veo 2 15 April 2025                ...</td>\n",
       "      <td>While image-text representation learning has b...</td>\n",
       "      <td>10 March 2025</td>\n",
       "      <td>Kevis-Kokitsi Maninis, Kaifeng Chen, Soham Gho...</td>\n",
       "      <td>['image', 'tasks', 'dense', 'video', 'vision']</td>\n",
       "    </tr>\n",
       "  </tbody>\n",
       "</table>\n",
       "</div>"
      ],
      "text/plain": [
       "                                                 URL  \\\n",
       "0  https://deepmind.google/research/publications/...   \n",
       "1  https://deepmind.google/research/publications/...   \n",
       "2  https://deepmind.google/research/publications/...   \n",
       "3  https://deepmind.google/research/publications/...   \n",
       "4  https://deepmind.google/research/publications/...   \n",
       "\n",
       "                                                HTML  \\\n",
       "0  Automated Discovery of Interpretable Cognitive...   \n",
       "1  Scaling Pre-training to One Hundred Billion Da...   \n",
       "2  Delta Variances - Google DeepMind             ...   \n",
       "3  Effective Kernel Fuzzing with Learned White-bo...   \n",
       "4  TIPS: Text-Image Pretraining with Spatial awar...   \n",
       "\n",
       "                                               Title  \\\n",
       "0  Automated Discovery of Interpretable Cognitive...   \n",
       "1  Scaling Pre-training to One Hundred Billion Da...   \n",
       "2  Generate videos in Gemini and Whisk with Veo 2...   \n",
       "3  Veo 2 15 April 2025                   Effectiv...   \n",
       "4  Whisk with Veo 2 15 April 2025                ...   \n",
       "\n",
       "                                            Abstract      Publish_date  \\\n",
       "0  A principal goal of computational neuroscience...   6 February 2025   \n",
       "1  We provide an empirical investigation of the p...  11 February 2025   \n",
       "2  Decision makers may suffer from uncertainty in...  20 February 2025   \n",
       "3  Kernel fuzzers rely heavily on program mutatio...      1 April 2025   \n",
       "4  While image-text representation learning has b...     10 March 2025   \n",
       "\n",
       "                                             Authors  \\\n",
       "0  Pablo Castro Rivadeneira, Kim Stachenfeld, Kev...   \n",
       "1  Xiao Wang, Ibrahim Alabdulmohsin, Daniel Salz,...   \n",
       "2  Simon Schmitt, John Shawe-Taylor, Hado van Has...   \n",
       "3  Sishuai Gong, Wang Rui, Deniz Altinbüken, Pedr...   \n",
       "4  Kevis-Kokitsi Maninis, Kaifeng Chen, Soham Gho...   \n",
       "\n",
       "                                          KMeansTags  \n",
       "0  ['programs', 'rl', 'discover', 'reward', 'mode...  \n",
       "1      ['scale', 'vision', 'video', 'image', 'data']  \n",
       "2  ['neural', 'delta', 'weather', 'states', 'netw...  \n",
       "3  ['kernel', 'snowplow', 'coverage', 'programs',...  \n",
       "4     ['image', 'tasks', 'dense', 'video', 'vision']  "
      ]
     },
     "execution_count": 22,
     "metadata": {},
     "output_type": "execute_result"
    }
   ],
   "source": [
    "df = pd.read_csv('./cleaned_url_data.csv')\n",
    "print(df.shape)\n",
    "df.head()"
   ]
  },
  {
   "cell_type": "code",
   "execution_count": 33,
   "id": "508c8ded",
   "metadata": {},
   "outputs": [
    {
     "data": {
      "text/plain": [
       "(200, 7)"
      ]
     },
     "execution_count": 33,
     "metadata": {},
     "output_type": "execute_result"
    }
   ],
   "source": [
    "df = df.drop_duplicates(subset=[\"Title\"])\n",
    "df.shape"
   ]
  },
  {
   "cell_type": "code",
   "execution_count": 35,
   "id": "8c103e7f",
   "metadata": {},
   "outputs": [
    {
     "data": {
      "text/plain": [
       "(199, 7)"
      ]
     },
     "execution_count": 35,
     "metadata": {},
     "output_type": "execute_result"
    }
   ],
   "source": [
    "\n",
    "df = df.dropna(subset=['Title'])\n",
    "df.shape"
   ]
  },
  {
   "cell_type": "markdown",
   "id": "f2d1eec2",
   "metadata": {},
   "source": [
    "There were around 80 papers with same Title and abstract but different URLS"
   ]
  },
  {
   "cell_type": "code",
   "execution_count": 36,
   "id": "62087fe7",
   "metadata": {},
   "outputs": [],
   "source": [
    "df.to_csv('cleaned_url_data.csv', index=False)\n"
   ]
  },
  {
   "cell_type": "code",
   "execution_count": null,
   "id": "fd551676",
   "metadata": {},
   "outputs": [],
   "source": []
  }
 ],
 "metadata": {
  "kernelspec": {
   "display_name": "search_engine",
   "language": "python",
   "name": "python3"
  },
  "language_info": {
   "codemirror_mode": {
    "name": "ipython",
    "version": 3
   },
   "file_extension": ".py",
   "mimetype": "text/x-python",
   "name": "python",
   "nbconvert_exporter": "python",
   "pygments_lexer": "ipython3",
   "version": "3.10.16"
  }
 },
 "nbformat": 4,
 "nbformat_minor": 5
}
